{
  "nbformat": 4,
  "nbformat_minor": 0,
  "metadata": {
    "colab": {
      "provenance": [],
      "authorship_tag": "ABX9TyNu9QPkFhhJRS0zUVtglkpq",
      "include_colab_link": true
    },
    "kernelspec": {
      "name": "python3",
      "display_name": "Python 3"
    },
    "language_info": {
      "name": "python"
    }
  },
  "cells": [
    {
      "cell_type": "markdown",
      "metadata": {
        "id": "view-in-github",
        "colab_type": "text"
      },
      "source": [
        "<a href=\"https://colab.research.google.com/github/tymurs1/Stanford_CNN_2023/blob/assignment1/github_setup.ipynb\" target=\"_parent\"><img src=\"https://colab.research.google.com/assets/colab-badge.svg\" alt=\"Open In Colab\"/></a>"
      ]
    },
    {
      "cell_type": "code",
      "execution_count": null,
      "metadata": {
        "id": "smD5aee1yM0N"
      },
      "outputs": [],
      "source": [
        "# CLONING THE REPO\n",
        "\n",
        "# from google.colab import drive\n",
        "# drive.mount('/content/drive')\n",
        "# FOLDERNAME = 'Code/ML/'\n",
        "# import sys\n",
        "# sys.path.append('/content/drive/My Drive/{}'.format(FOLDERNAME))\n",
        "# %cd /content/drive/My\\ Drive/$FOLDERNAME\n",
        "# !git clone 'https://github.com/tymurs1/Stanford_CNN_2023.git'"
      ]
    },
    {
      "cell_type": "code",
      "source": [],
      "metadata": {
        "id": "fwxkYJonyrWI"
      },
      "execution_count": null,
      "outputs": []
    }
  ]
}